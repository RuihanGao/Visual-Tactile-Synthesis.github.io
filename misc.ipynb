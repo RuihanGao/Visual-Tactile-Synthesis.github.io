{
 "cells": [
  {
   "cell_type": "code",
   "execution_count": 1,
   "metadata": {},
   "outputs": [],
   "source": [
    "import os"
   ]
  },
  {
   "attachments": {},
   "cell_type": "markdown",
   "metadata": {},
   "source": [
    "## Part 1. Create directories for swap sketch results"
   ]
  },
  {
   "cell_type": "code",
   "execution_count": 2,
   "metadata": {},
   "outputs": [],
   "source": [
    "train_materials = [\"WhiteVest\", \"WhiteTshirt\", \"GreenSkirt\", \"BluePants\"]\n",
    "test_materials = train_materials.copy()\n",
    "parent_dir = \"static/images/swap_sketch\"\n",
    "if not os.path.exists(parent_dir):\n",
    "    os.makedirs(parent_dir)\n",
    "for train_material in train_materials:\n",
    "    for test_material in test_materials:\n",
    "        # create a folder called f\"{train_material}_{test_material}\" in parent_dir\n",
    "        folder_name = f\"{train_material}_{test_material}\"\n",
    "        folder_path = os.path.join(parent_dir, folder_name)\n",
    "        os.makedirs(folder_path, exist_ok=True)\n",
    "        # in each folder, create subfolders \"fake_I\" and \"fake_N\"\n",
    "        for subfolder_name in [\"fake_I\", \"fake_N\"]:\n",
    "            subfolder_path = os.path.join(folder_path, subfolder_name)\n",
    "            os.makedirs(subfolder_path, exist_ok=True)"
   ]
  },
  {
   "cell_type": "code",
   "execution_count": null,
   "metadata": {},
   "outputs": [],
   "source": []
  }
 ],
 "metadata": {
  "kernelspec": {
   "display_name": "SKIT",
   "language": "python",
   "name": "python3"
  },
  "language_info": {
   "codemirror_mode": {
    "name": "ipython",
    "version": 3
   },
   "file_extension": ".py",
   "mimetype": "text/x-python",
   "name": "python",
   "nbconvert_exporter": "python",
   "pygments_lexer": "ipython3",
   "version": "3.8.13"
  },
  "orig_nbformat": 4
 },
 "nbformat": 4,
 "nbformat_minor": 2
}
